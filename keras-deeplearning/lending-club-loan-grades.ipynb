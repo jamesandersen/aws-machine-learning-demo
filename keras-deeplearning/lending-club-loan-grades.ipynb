{
 "cells": [
  {
   "cell_type": "code",
   "execution_count": 1,
   "metadata": {
    "collapsed": true
   },
   "outputs": [],
   "source": [
    "# Import pandas \n",
    "import pandas as pd"
   ]
  },
  {
   "cell_type": "code",
   "execution_count": 5,
   "metadata": {
    "collapsed": false
   },
   "outputs": [
    {
     "name": "stdout",
     "output_type": "stream",
     "text": [
      "<class 'pandas.core.frame.DataFrame'>\n",
      "RangeIndex: 421095 entries, 0 to 421094\n",
      "Columns: 133 entries, id to adjusted_dti\n",
      "dtypes: float64(64), int64(46), object(23)\n",
      "memory usage: 427.3+ MB\n",
      "None\n"
     ]
    },
    {
     "ename": "AttributeError",
     "evalue": "'Series' object has no attribute 'info'",
     "output_type": "error",
     "traceback": [
      "\u001b[0;31m---------------------------------------------------------------------------\u001b[0m",
      "\u001b[0;31mAttributeError\u001b[0m                            Traceback (most recent call last)",
      "\u001b[0;32m<ipython-input-5-42e4cec3f242>\u001b[0m in \u001b[0;36m<module>\u001b[0;34m()\u001b[0m\n\u001b[1;32m      5\u001b[0m \u001b[0mprint\u001b[0m\u001b[0;34m(\u001b[0m\u001b[0mlcdata\u001b[0m\u001b[0;34m.\u001b[0m\u001b[0minfo\u001b[0m\u001b[0;34m(\u001b[0m\u001b[0;34m)\u001b[0m\u001b[0;34m)\u001b[0m\u001b[0;34m\u001b[0m\u001b[0m\n\u001b[1;32m      6\u001b[0m \u001b[0;34m\u001b[0m\u001b[0m\n\u001b[0;32m----> 7\u001b[0;31m \u001b[0mprint\u001b[0m\u001b[0;34m(\u001b[0m\u001b[0mlcdata\u001b[0m\u001b[0;34m.\u001b[0m\u001b[0mapplication_type\u001b[0m\u001b[0;34m.\u001b[0m\u001b[0minfo\u001b[0m\u001b[0;34m(\u001b[0m\u001b[0;34m)\u001b[0m\u001b[0;34m)\u001b[0m\u001b[0;34m\u001b[0m\u001b[0m\n\u001b[0m",
      "\u001b[0;32m/usr/local/lib/python3.5/dist-packages/pandas/core/generic.py\u001b[0m in \u001b[0;36m__getattr__\u001b[0;34m(self, name)\u001b[0m\n\u001b[1;32m   2742\u001b[0m             \u001b[0;32mif\u001b[0m \u001b[0mname\u001b[0m \u001b[0;32min\u001b[0m \u001b[0mself\u001b[0m\u001b[0;34m.\u001b[0m\u001b[0m_info_axis\u001b[0m\u001b[0;34m:\u001b[0m\u001b[0;34m\u001b[0m\u001b[0m\n\u001b[1;32m   2743\u001b[0m                 \u001b[0;32mreturn\u001b[0m \u001b[0mself\u001b[0m\u001b[0;34m[\u001b[0m\u001b[0mname\u001b[0m\u001b[0;34m]\u001b[0m\u001b[0;34m\u001b[0m\u001b[0m\n\u001b[0;32m-> 2744\u001b[0;31m             \u001b[0;32mreturn\u001b[0m \u001b[0mobject\u001b[0m\u001b[0;34m.\u001b[0m\u001b[0m__getattribute__\u001b[0m\u001b[0;34m(\u001b[0m\u001b[0mself\u001b[0m\u001b[0;34m,\u001b[0m \u001b[0mname\u001b[0m\u001b[0;34m)\u001b[0m\u001b[0;34m\u001b[0m\u001b[0m\n\u001b[0m\u001b[1;32m   2745\u001b[0m \u001b[0;34m\u001b[0m\u001b[0m\n\u001b[1;32m   2746\u001b[0m     \u001b[0;32mdef\u001b[0m \u001b[0m__setattr__\u001b[0m\u001b[0;34m(\u001b[0m\u001b[0mself\u001b[0m\u001b[0;34m,\u001b[0m \u001b[0mname\u001b[0m\u001b[0;34m,\u001b[0m \u001b[0mvalue\u001b[0m\u001b[0;34m)\u001b[0m\u001b[0;34m:\u001b[0m\u001b[0;34m\u001b[0m\u001b[0m\n",
      "\u001b[0;31mAttributeError\u001b[0m: 'Series' object has no attribute 'info'"
     ]
    }
   ],
   "source": [
    "# Read in lending club data \n",
    "lcdata = pd.read_csv(\"/tmp/lcdata/lc-2015-loans-2017-05-17T13-54.csv\", low_memory=False)\n",
    "\n",
    "# Print info on lending club data\n",
    "print(lcdata.info())"
   ]
  },
  {
   "cell_type": "code",
   "execution_count": 7,
   "metadata": {
    "collapsed": false
   },
   "outputs": [
    {
     "name": "stdout",
     "output_type": "stream",
     "text": [
      "         id  member_id  loan_amnt  funded_amnt  funded_amnt_inv        term  \\\n",
      "0  66624733        NaN      18000        18000          18000.0   60 months   \n",
      "1  68367011        NaN      21000        21000          21000.0   60 months   \n",
      "2  68615044        NaN      16000        16000          16000.0   60 months   \n",
      "3  68476697        NaN      15700        15700          15700.0   60 months   \n",
      "4  68516838        NaN      23850        23850          23850.0   60 months   \n",
      "\n",
      "   int_rate  installment grade sub_grade     ...      sec_app_open_il_6m  \\\n",
      "0     19.48       471.70     E        E2     ...                     NaN   \n",
      "1     13.99       488.53     C        C4     ...                     NaN   \n",
      "2     13.99       372.21     C        C4     ...                     NaN   \n",
      "3     16.59       386.74     D        D2     ...                     NaN   \n",
      "4     17.27       596.21     D        D3     ...                     NaN   \n",
      "\n",
      "  sec_app_num_rev_accts sec_app_chargeoff_within_12_mths  \\\n",
      "0                   NaN                              NaN   \n",
      "1                   NaN                              NaN   \n",
      "2                   NaN                              NaN   \n",
      "3                   NaN                              NaN   \n",
      "4                   NaN                              NaN   \n",
      "\n",
      "   sec_app_collections_12_mths_ex_med sec_app_mths_since_last_major_derog  \\\n",
      "0                                 NaN                                 NaN   \n",
      "1                                 NaN                                 NaN   \n",
      "2                                 NaN                                 NaN   \n",
      "3                                 NaN                                 NaN   \n",
      "4                                 NaN                                 NaN   \n",
      "\n",
      "  age_earliest_cr loan_to_income il_util_ex_mort installment_pct_inc  \\\n",
      "0            4368       0.120000        1.157349            0.037736   \n",
      "1            4519       0.403846        1.073043            0.112738   \n",
      "2            4611       0.112676        0.903690            0.031454   \n",
      "3            4215       0.327083        1.032641            0.096685   \n",
      "4            8659       0.350498        3.234950            0.105142   \n",
      "\n",
      "  adjusted_dti  \n",
      "0     0.361647  \n",
      "1     7.565519  \n",
      "2     4.812486  \n",
      "3     5.952438  \n",
      "4     8.068733  \n",
      "\n",
      "[5 rows x 133 columns]\n"
     ]
    },
    {
     "data": {
      "text/plain": [
       "id                                       int64\n",
       "member_id                              float64\n",
       "loan_amnt                                int64\n",
       "funded_amnt                              int64\n",
       "funded_amnt_inv                        float64\n",
       "term                                    object\n",
       "int_rate                               float64\n",
       "installment                            float64\n",
       "grade                                   object\n",
       "sub_grade                               object\n",
       "emp_title                               object\n",
       "emp_length                              object\n",
       "home_ownership                          object\n",
       "annual_inc                             float64\n",
       "verification_status                     object\n",
       "issue_d                                 object\n",
       "loan_status                             object\n",
       "pymnt_plan                              object\n",
       "url                                     object\n",
       "desc                                    object\n",
       "purpose                                 object\n",
       "title                                   object\n",
       "zip_code                                object\n",
       "addr_state                              object\n",
       "dti                                    float64\n",
       "delinq_2yrs                              int64\n",
       "earliest_cr_line                        object\n",
       "fico_range_low                           int64\n",
       "fico_range_high                          int64\n",
       "inq_last_6mths                           int64\n",
       "                                        ...   \n",
       "num_tl_120dpd_2m                       float64\n",
       "num_tl_30dpd                             int64\n",
       "num_tl_90g_dpd_24m                       int64\n",
       "num_tl_op_past_12m                       int64\n",
       "pct_tl_nvr_dlq                         float64\n",
       "percent_bc_gt_75                       float64\n",
       "pub_rec_bankruptcies                     int64\n",
       "tax_liens                                int64\n",
       "tot_hi_cred_lim                          int64\n",
       "total_bal_ex_mort                        int64\n",
       "total_bc_limit                           int64\n",
       "total_il_high_credit_limit               int64\n",
       "revol_bal_joint                        float64\n",
       "sec_app_fico_range_low                 float64\n",
       "sec_app_fico_range_high                float64\n",
       "sec_app_earliest_cr_line               float64\n",
       "sec_app_inq_last_6mths                 float64\n",
       "sec_app_mort_acc                       float64\n",
       "sec_app_open_acc                       float64\n",
       "sec_app_revol_util                     float64\n",
       "sec_app_open_il_6m                     float64\n",
       "sec_app_num_rev_accts                  float64\n",
       "sec_app_chargeoff_within_12_mths       float64\n",
       "sec_app_collections_12_mths_ex_med     float64\n",
       "sec_app_mths_since_last_major_derog    float64\n",
       "age_earliest_cr                          int64\n",
       "loan_to_income                         float64\n",
       "il_util_ex_mort                        float64\n",
       "installment_pct_inc                    float64\n",
       "adjusted_dti                           float64\n",
       "dtype: object"
      ]
     },
     "execution_count": 7,
     "metadata": {},
     "output_type": "execute_result"
    }
   ],
   "source": [
    "print(lcdata.head())\n",
    "\n",
    "lcdata.dtypes"
   ]
  },
  {
   "cell_type": "code",
   "execution_count": null,
   "metadata": {
    "collapsed": true
   },
   "outputs": [],
   "source": [
    "import numpy as np\n",
    "# Import `train_test_split` from `sklearn.model_selection`\n",
    "from sklearn.model_selection import train_test_split\n",
    "\n",
    "# Specify the data \n",
    "applicant_numeric=['annual_inc','dti','age_earliest_cr','loan_amnt', 'installment']\n",
    "applicant_text=['emp_title','title']\n",
    "applicant_categorical=['application_type', 'emp_length', 'home_ownership', 'addr_state', 'term']\n",
    "credit_numeric=['acc_now_delinq','acc_open_past_24mths','avg_cur_bal','bc_open_to_buy','bc_util','delinq_2yrs','delinq_amnt','fico_range_high','fico_range_low','last_fico_range_high','last_fico_range_low','open_acc','pub_rec','revol_util','revol_bal','tot_coll_amt','tot_cur_bal','total_acc','total_rev_hi_lim','num_accts_ever_120_pd','num_actv_bc_tl','num_actv_rev_tl','num_bc_sats','num_bc_tl','num_il_tl', 'num_rev_tl_bal_gt_0','pct_tl_nvr_dlq','percent_bc_gt_75','tot_hi_cred_lim','total_bal_ex_mort','total_bc_limit','total_il_high_credit_limit','total_rev_hi_lim','all_util', 'loan_to_income', 'installment_pct_inc','il_util','il_util_ex_mort','total_bal_il','total_cu_tl']\n",
    "      \n",
    "X=lcdata.loc[:, applicant_numeric + applicant_text + applicant_categorical + credit_numeric]\n",
    "\n",
    "\n"
   ]
  },
  {
   "cell_type": "code",
   "execution_count": null,
   "metadata": {
    "collapsed": true
   },
   "outputs": [],
   "source": [
    "# Specify the target labels and flatten the array \n",
    "# encode class values as integers\n",
    "encoder = LabelEncoder()\n",
    "encoder.fit(lcdata.grade)\n",
    "encoded_Y = encoder.transform(lcdata.grade)\n",
    "# convert integers to dummy variables (i.e. one hot encoded)\n",
    "dummy_y = np_utils.to_categorical(encoded_Y)\n",
    "y=np.ravel(dummy_y)"
   ]
  },
  {
   "cell_type": "code",
   "execution_count": null,
   "metadata": {
    "collapsed": true
   },
   "outputs": [],
   "source": [
    "# Split the data up in train and test sets\n",
    "X_train, X_test, y_train, y_test = train_test_split(X, y, test_size=0.33, random_state=42)"
   ]
  }
 ],
 "metadata": {
  "kernelspec": {
   "display_name": "Python 3",
   "language": "python",
   "name": "python3"
  },
  "language_info": {
   "codemirror_mode": {
    "name": "ipython",
    "version": 3
   },
   "file_extension": ".py",
   "mimetype": "text/x-python",
   "name": "python",
   "nbconvert_exporter": "python",
   "pygments_lexer": "ipython3",
   "version": "3.5.3"
  }
 },
 "nbformat": 4,
 "nbformat_minor": 2
}
