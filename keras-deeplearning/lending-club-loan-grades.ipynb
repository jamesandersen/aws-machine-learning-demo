{
 "cells": [
  {
   "cell_type": "code",
   "execution_count": null,
   "metadata": {
    "collapsed": false
   },
   "outputs": [],
   "source": [
    "!pip3 -q install sklearn pandas\n",
    "\n",
    "import pandas as pd\n",
    "import sklearn\n",
    "print(\"pandas version {} installed\".format(pd.__version__))\n",
    "print(\"scikit-learn version {} installed\".format(sklearn.__version__))"
   ]
  },
  {
   "cell_type": "code",
   "execution_count": null,
   "metadata": {
    "collapsed": false
   },
   "outputs": [],
   "source": [
    "# %load model_definition.py\n",
    "\"\"\"Create Keras model\"\"\"\n",
    "\n",
    "from keras.models import Sequential\n",
    "from keras.layers import Dense, Dropout\n",
    "from keras.constraints import maxnorm\n",
    "\n",
    "def create_model(input_dim, output_dim):\n",
    "    # create model\n",
    "    model = Sequential()\n",
    "    # input layer\n",
    "    model.add(Dense(100, input_dim=input_dim, activation='relu', W_constraint=maxnorm(3)))\n",
    "    model.add(Dropout(0.2))\n",
    "    \n",
    "    # hidden layer\n",
    "    model.add(Dense(100, activation='relu', W_constraint=maxnorm(3)))\n",
    "    model.add(Dropout(0.2))\n",
    "    \n",
    "    # output layer\n",
    "    model.add(Dense(output_dim, activation='softmax'))\n",
    "    \n",
    "    # Compile model\n",
    "    model.compile(loss='categorical_crossentropy', optimizer='adam', metrics=['accuracy'])\n",
    "    return model"
   ]
  },
  {
   "cell_type": "code",
   "execution_count": null,
   "metadata": {
    "collapsed": false,
    "deletable": true,
    "editable": true
   },
   "outputs": [],
   "source": [
    "# Import pandas \n",
    "import train_util as util\n",
    "\n",
    "helper = util.LendingClubModelHelper()\n",
    "\n",
    "# Read in lending club data \n",
    "helper.read_csv(\"lc-2015-loans.csv\", \n",
    "                util.APPLICANT_NUMERIC +\n",
    "                util.APPLICANT_CATEGORICAL +\n",
    "                util.CREDIT_NUMERIC +\n",
    "                util.LABEL)\n",
    "\n",
    "\n",
    "print(helper.lcdata.info())\n"
   ]
  },
  {
   "cell_type": "code",
   "execution_count": null,
   "metadata": {
    "collapsed": false,
    "deletable": true,
    "editable": true
   },
   "outputs": [],
   "source": [
    "%matplotlib inline\n",
    "\n",
    "# Show a correlation matrix of the features in our data set\n",
    "plots.plot_correlation_matrix(helper.lcdata)"
   ]
  },
  {
   "cell_type": "code",
   "execution_count": null,
   "metadata": {
    "collapsed": false,
    "deletable": true,
    "editable": true
   },
   "outputs": [],
   "source": [
    "import os\n",
    "\n",
    "# Divide the data set into training and test sets\n",
    "helper.split_data(util.APPLICANT_NUMERIC + util.CREDIT_NUMERIC,\n",
    "                  util.APPLICANT_CATEGORICAL,\n",
    "                  util.LABEL,\n",
    "                  test_size = 0.2,\n",
    "                  row_limit = os.environ.get(\"sample\"))\n",
    "\n",
    "# Inspect our training data\n",
    "print(helper.x_train.sample())\n",
    "\n",
    "# Loan grade has been one-hot encoded\n",
    "print(helper.y_train.sample())"
   ]
  },
  {
   "cell_type": "code",
   "execution_count": null,
   "metadata": {
    "collapsed": false,
    "deletable": true,
    "editable": true
   },
   "outputs": [],
   "source": [
    "from model_definition import create_model\n",
    "\n",
    "history = helper.train_model(create_model)\n",
    "\n",
    "# list all data in history\n",
    "print(history.history.keys())"
   ]
  },
  {
   "cell_type": "code",
   "execution_count": null,
   "metadata": {
    "collapsed": false,
    "deletable": true,
    "editable": true
   },
   "outputs": [],
   "source": [
    "plots.plot_history(history)"
   ]
  },
  {
   "cell_type": "code",
   "execution_count": null,
   "metadata": {
    "collapsed": false,
    "deletable": true,
    "editable": true
   },
   "outputs": [],
   "source": [
    "import numpy as np\n",
    "from sklearn.metrics import confusion_matrix, f1_score\n",
    "\n",
    "y_pred = helper.model.predict(helper.x_test.as_matrix())\n",
    "\n",
    "# Revert one-hot encoding to classes\n",
    "y_pred_classes = pd.DataFrame((y_pred.argmax(1)[:,None] == np.arange(y_pred.shape[1])),\n",
    "                              columns=helper.y_test.columns,\n",
    "                              index=helper.y_test.index)\n",
    "\n",
    "y_test_vals = helper.y_test.idxmax(1)\n",
    "y_pred_vals = y_pred_classes.idxmax(1)\n",
    "\n",
    "# F1 score\n",
    "# Use idxmax() to convert back from one-hot encoding\n",
    "f1 = f1_score(y_test_vals, y_pred_vals, average='weighted')\n",
    "print(\"Test Set Accuracy: {:.00%}\".format(f1))\n",
    "\n",
    "# Confusion matrix\n",
    "cfn_matrix = confusion_matrix(y_test_vals, y_pred_vals)\n",
    "util.plot_confusion_matrix(cfn_matrix, classes=helper.y_test.columns)"
   ]
  },
  {
   "cell_type": "code",
   "execution_count": null,
   "metadata": {
    "collapsed": true
   },
   "outputs": [],
   "source": []
  }
 ],
 "metadata": {
  "kernelspec": {
   "display_name": "Python 3",
   "language": "python",
   "name": "python3"
  },
  "language_info": {
   "codemirror_mode": {
    "name": "ipython",
    "version": 3
   },
   "file_extension": ".py",
   "mimetype": "text/x-python",
   "name": "python",
   "nbconvert_exporter": "python",
   "pygments_lexer": "ipython3",
   "version": "3.5.2+"
  }
 },
 "nbformat": 4,
 "nbformat_minor": 2
}
