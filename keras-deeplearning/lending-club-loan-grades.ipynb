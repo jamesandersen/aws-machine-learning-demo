{
 "cells": [
  {
   "cell_type": "code",
   "execution_count": null,
   "metadata": {
    "collapsed": false,
    "deletable": true,
    "editable": true
   },
   "outputs": [],
   "source": [
    "# Import pandas \n",
    "import pandas as pd\n",
    "pd.reset_option('display.max_columns')\n",
    "\n",
    "# Groups of columns we want to use in our model\n",
    "applicant_numeric=['annual_inc','dti','age_earliest_cr','loan_amnt', 'installment']\n",
    "applicant_categorical=['application_type', 'emp_length', 'home_ownership', 'addr_state', 'term']\n",
    "credit_numeric=['acc_now_delinq','acc_open_past_24mths','avg_cur_bal','bc_open_to_buy',\n",
    "                'bc_util','delinq_2yrs','delinq_amnt','fico_range_high','fico_range_low',\n",
    "                'last_fico_range_high','last_fico_range_low','open_acc','pub_rec','revol_util',\n",
    "                'revol_bal','tot_coll_amt','tot_cur_bal','total_acc','total_rev_hi_lim',\n",
    "                'num_accts_ever_120_pd','num_actv_bc_tl','num_actv_rev_tl','num_bc_sats',\n",
    "                'num_bc_tl','num_il_tl', 'num_rev_tl_bal_gt_0','pct_tl_nvr_dlq',\n",
    "                'percent_bc_gt_75','tot_hi_cred_lim','total_bal_ex_mort','total_bc_limit',\n",
    "                'total_il_high_credit_limit','total_rev_hi_lim','all_util', 'loan_to_income',\n",
    "                'installment_pct_inc','il_util','il_util_ex_mort','total_bal_il','total_cu_tl']\n",
    "label = ['grade']\n",
    "\n",
    "# Read in lending club data \n",
    "# ...skip the columns we're not going to use to preserve memory\n",
    "lcdata = pd.read_csv(\"lc-2015-loans.csv\", \n",
    "                     usecols=applicant_numeric + applicant_categorical + credit_numeric + label)\n",
    "\n",
    "\n",
    "print(lcdata.info())\n"
   ]
  },
  {
   "cell_type": "code",
   "execution_count": null,
   "metadata": {
    "collapsed": false,
    "deletable": true,
    "editable": true
   },
   "outputs": [],
   "source": [
    "%matplotlib inline\n",
    "import matplotlib.pyplot as plt\n",
    "import matplotlib.ticker as ticker\n",
    "\n",
    "# Sanity check that we're working with cleaned data\n",
    "bad_rows = lcdata.isnull().T.any().T.sum()\n",
    "if bad_rows > 0:\n",
    "    print(\"Rows with null/NaN values: {}\".format(bad_rows))\n",
    "    print(\"Columns with null/NaN values:\")\n",
    "    pd.isnull(lcdata).sum() > 0\n",
    "    print (\"Dropping bad rows...\")\n",
    "    lcdata.dropna(axis=0, how='any', inplace=True)\n",
    "    print(\"Rows with null/NaN values: {}\".format(lcdata.isnull().T.any().T.sum()))\n",
    "    \n",
    "fig = plt.figure(figsize=(20,20))\n",
    "ax = fig.add_subplot(111)\n",
    "cax = ax.matshow(lcdata.corr(), cmap=plt.cm.Blues)\n",
    "fig.colorbar(cax)\n",
    "\n",
    "ax.set_xticklabels(lcdata, rotation=60)\n",
    "ax.set_yticklabels(lcdata)\n",
    "ax.xaxis.set_major_locator(ticker.MultipleLocator(1))\n",
    "ax.yaxis.set_major_locator(ticker.MultipleLocator(1))\n",
    "\n",
    "plt.show()"
   ]
  },
  {
   "cell_type": "code",
   "execution_count": null,
   "metadata": {
    "collapsed": false,
    "deletable": true,
    "editable": true
   },
   "outputs": [],
   "source": [
    "# Check for an environment variable called \"sample\"\n",
    "# When present, select a sample of the rows for processing\n",
    "# to avoid painfully slow processing in local testing\n",
    "import os\n",
    "\n",
    "sample = os.environ.get(\"sample\")\n",
    "if sample != None:\n",
    "    print(\"Using only a sample of {} observations\".format(sample))\n",
    "    data = lcdata.sample(int(60000))\n",
    "else:\n",
    "    print(\"Using the full set of {} observations\".format(lcdata.shape[0]))\n",
    "    data = lcdata"
   ]
  },
  {
   "cell_type": "code",
   "execution_count": null,
   "metadata": {
    "collapsed": false,
    "deletable": true,
    "editable": true
   },
   "outputs": [],
   "source": [
    "# Subset the data to get unlabeled observations \n",
    "X=data.loc[:, applicant_numeric + applicant_categorical + credit_numeric]\n",
    "\n",
    "# function to one-hot encode categorical features\n",
    "def encode_categorical(x, categorical_cols):\n",
    "    label_data = None\n",
    "    cat_data = None\n",
    "    for col in categorical_cols:\n",
    "        # use get_dummies() to do one hot encoding of categorical column\n",
    "        x = x.merge(pd.get_dummies(x[col]), left_index=True, right_index=True)\n",
    "        \n",
    "        # drop the original categorical column\n",
    "        x.drop(col, axis=1, inplace=True)\n",
    "        \n",
    "    print(x.shape)\n",
    "    return x\n",
    "\n",
    "# Update our X dataframe with categorical values replaced by one-hot encoded values\n",
    "X = encode_categorical(X, applicant_categorical)\n",
    "\n",
    "# Ensure all numeric features are on the same scale\n",
    "for col in applicant_numeric + credit_numeric:\n",
    "    X[col] = (X[col] - X[col].mean())/X[col].std()\n",
    "\n",
    "print(X.sample())"
   ]
  },
  {
   "cell_type": "code",
   "execution_count": null,
   "metadata": {
    "collapsed": false,
    "deletable": true,
    "editable": true
   },
   "outputs": [],
   "source": [
    "# Specify the target labels and flatten the array \n",
    "y=pd.get_dummies(data.grade)\n",
    "print(y.sample())"
   ]
  },
  {
   "cell_type": "code",
   "execution_count": null,
   "metadata": {
    "collapsed": false,
    "deletable": true,
    "editable": true
   },
   "outputs": [],
   "source": [
    "from sklearn.model_selection import train_test_split\n",
    "\n",
    "# Create train and test sets\n",
    "X_train, X_test, y_train, y_test = train_test_split(X, y, test_size=0.30, random_state=23)\n",
    "\n",
    "print(X_train.head())\n"
   ]
  },
  {
   "cell_type": "code",
   "execution_count": null,
   "metadata": {
    "collapsed": false,
    "deletable": true,
    "editable": true
   },
   "outputs": [],
   "source": [
    "# Import `Sequential` from `keras.models`\n",
    "from keras.models import Sequential\n",
    "\n",
    "# Import `Dense` from `keras.layers`\n",
    "from keras.layers import Dense, Dropout\n",
    "\n",
    "from keras.constraints import maxnorm\n",
    "\n",
    "print(y.shape[1])\n",
    "\n",
    "def baseline_model():\n",
    "    # create model\n",
    "    model = Sequential()\n",
    "    # input layer\n",
    "    model.add(Dense(100, input_dim=X.shape[1], activation='relu', W_constraint=maxnorm(3)))\n",
    "    model.add(Dropout(0.2))\n",
    "    \n",
    "    # hidden layer\n",
    "    model.add(Dense(100, activation='relu', W_constraint=maxnorm(3)))\n",
    "    model.add(Dropout(0.2))\n",
    "    \n",
    "    # output layer\n",
    "    model.add(Dense(y.shape[1], activation='softmax'))\n",
    "    \n",
    "    # Compile model\n",
    "    model.compile(loss='categorical_crossentropy', optimizer='adam', metrics=['accuracy'])\n",
    "    return model\n",
    "\n",
    "model = baseline_model()\n",
    "history = model.fit(X_train.as_matrix(), \n",
    "                    y_train.as_matrix(),\n",
    "                    validation_split=0.2,\n",
    "                    nb_epoch=38 if sample != None else 20, # Model converges much faster on larger data set \n",
    "                    batch_size=32,\n",
    "                    verbose=2)"
   ]
  },
  {
   "cell_type": "code",
   "execution_count": null,
   "metadata": {
    "collapsed": false,
    "deletable": true,
    "editable": true
   },
   "outputs": [],
   "source": [
    "# list all data in history\n",
    "print(history.history.keys())\n",
    "# summarize history for accuracy\n",
    "plt.plot(history.history['acc'])\n",
    "plt.plot(history.history['val_acc'])\n",
    "plt.title('model accuracy')\n",
    "plt.ylabel('accuracy')\n",
    "plt.xlabel('epoch')\n",
    "plt.legend(['train', 'valid.'], loc='upper left')\n",
    "plt.show()\n",
    "# summarize history for loss\n",
    "plt.plot(history.history['loss'])\n",
    "plt.plot(history.history['val_loss'])\n",
    "plt.title('model loss')\n",
    "plt.ylabel('loss')\n",
    "plt.xlabel('epoch')\n",
    "plt.legend(['train', 'valid.'], loc='upper left')\n",
    "plt.show()"
   ]
  },
  {
   "cell_type": "code",
   "execution_count": null,
   "metadata": {
    "collapsed": false,
    "deletable": true,
    "editable": true
   },
   "outputs": [],
   "source": [
    "import numpy as np\n",
    "\n",
    "y_pred = model.predict(X_test.as_matrix())\n",
    "\n",
    "y_pred_classes = pd.DataFrame((y_pred.argmax(1)[:,None] == np.arange(y_pred.shape[1])), columns=y_test.columns,index=y_test.index)\n",
    "\n",
    "score = model.evaluate(X_test.as_matrix(), y_test.as_matrix(), verbose=2)\n",
    "\n",
    "print(\"Test Set Loss: {:.00%}, Accuracy: {:.00%}\".format(score[0], score[1]))\n",
    "\n",
    "model.save('lc_model.h5')  # creates a HDF5 file 'lc_model.h5'\n",
    "\n",
    "print(\"Model saved to lc_model.h5\")"
   ]
  },
  {
   "cell_type": "code",
   "execution_count": null,
   "metadata": {
    "collapsed": false,
    "deletable": true,
    "editable": true,
    "scrolled": false
   },
   "outputs": [],
   "source": [
    "# Import the modules from `sklearn.metrics`\n",
    "from sklearn.metrics import confusion_matrix, f1_score\n",
    "\n",
    "# F1 score\n",
    "# Use idxmax() to convert back from one-hot encoding\n",
    "f1 = f1_score(y_test.idxmax(1), y_pred_classes.idxmax(1), average='weighted')\n",
    "print(f1)\n",
    "\n",
    "# Confusion matrix\n",
    "cfn_matrix = confusion_matrix(y_test.idxmax(1), y_pred_classes.idxmax(1))\n",
    "\n",
    "import itertools\n",
    "\n",
    "def plot_confusion_matrix(cm, classes,\n",
    "                          normalize=False,\n",
    "                          title='Confusion matrix',\n",
    "                          cmap=plt.cm.Blues):\n",
    "    \"\"\"\n",
    "    This function prints and plots the confusion matrix.\n",
    "    Normalization can be applied by setting `normalize=True`.\n",
    "    \"\"\"\n",
    "    plt.imshow(cm, interpolation='nearest', cmap=cmap)\n",
    "    plt.title(title)\n",
    "    plt.colorbar()\n",
    "    tick_marks = np.arange(len(classes))\n",
    "    plt.xticks(tick_marks, classes, rotation=45)\n",
    "    plt.yticks(tick_marks, classes)\n",
    "\n",
    "    if normalize:\n",
    "        cm = cm.astype('float') / cm.sum(axis=1)[:, np.newaxis]\n",
    "        #print(\"Normalized confusion matrix\")\n",
    "    #else:\n",
    "        #print('Confusion matrix, without normalization')\n",
    "\n",
    "    #print(cm)\n",
    "\n",
    "    thresh = cm.max() / 2.\n",
    "    for i, j in itertools.product(range(cm.shape[0]), range(cm.shape[1])):\n",
    "        plt.text(j, i, cm[i, j],\n",
    "                 horizontalalignment=\"center\",\n",
    "                 color=\"white\" if cm[i, j] > thresh else \"black\")\n",
    "\n",
    "    plt.tight_layout()\n",
    "    plt.ylabel('True label')\n",
    "    plt.xlabel('Predicted label')\n",
    "    \n",
    "# Plot non-normalized confusion matrix\n",
    "plt.figure()\n",
    "plot_confusion_matrix(cfn_matrix, classes=y_test.columns,\n",
    "                      title='Grade Prediction')\n",
    "plt.show()"
   ]
  },
  {
   "cell_type": "code",
   "execution_count": null,
   "metadata": {
    "collapsed": true
   },
   "outputs": [],
   "source": []
  }
 ],
 "metadata": {
  "kernelspec": {
   "display_name": "Python 3",
   "language": "python",
   "name": "python3"
  },
  "language_info": {
   "codemirror_mode": {
    "name": "ipython",
    "version": 3
   },
   "file_extension": ".py",
   "mimetype": "text/x-python",
   "name": "python",
   "nbconvert_exporter": "python",
   "pygments_lexer": "ipython3",
   "version": "3.5.2+"
  }
 },
 "nbformat": 4,
 "nbformat_minor": 2
}
